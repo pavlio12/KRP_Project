{
 "cells": [
  {
   "cell_type": "markdown",
   "id": "7db83464",
   "metadata": {},
   "source": [
    "## KRP - PC application\n",
    "- PC Application for the USB project on the STM32H747I-DISCO board\n",
    "- Github: https://github.com/pavlio12/KRP_Project\n"
   ]
  },
  {
   "cell_type": "code",
   "execution_count": null,
   "id": "65d9cbf9",
   "metadata": {},
   "outputs": [],
   "source": [
    "import serial\n",
    "import time\n",
    "\n",
    "# === Configuration ===\n",
    "PORT = \"COM5\"      # Windows example\n",
    "BAUDRATE = 115200   # default CDC speed\n"
   ]
  },
  {
   "cell_type": "code",
   "execution_count": null,
   "id": "b6a8421d",
   "metadata": {},
   "outputs": [],
   "source": [
    "def main():\n",
    "    try:\n",
    "        ser = serial.Serial(PORT, BAUDRATE, timeout=1)\n",
    "        print(f\"Connected to {PORT}\")\n",
    "    except serial.SerialException as e:\n",
    "        print(f\"Error opening port {PORT}: {e}\")\n",
    "        return\n",
    "\n",
    "    print(\"Reading STM32 messages (Ctrl+C to stop)...\")\n",
    "    try:\n",
    "        while True:\n",
    "            line = ser.readline().decode(errors='ignore').strip()\n",
    "            if line:\n",
    "                print(f\"[STM32] {line}\")\n",
    "            # optional: send something back every few seconds\n",
    "            time.sleep(0.05)\n",
    "    except KeyboardInterrupt:\n",
    "        print(\"\\nExiting.\")\n",
    "    finally:\n",
    "        ser.close()\n",
    "\n",
    "if __name__ == \"__main__\":\n",
    "    main()"
   ]
  }
 ],
 "metadata": {
  "kernelspec": {
   "display_name": ".venv (3.9.7)",
   "language": "python",
   "name": "python3"
  },
  "language_info": {
   "name": "python",
   "version": "3.9.7"
  }
 },
 "nbformat": 4,
 "nbformat_minor": 5
}
